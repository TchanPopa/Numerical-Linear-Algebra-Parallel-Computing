{
 "cells": [
  {
   "cell_type": "markdown",
   "metadata": {},
   "source": [
    "# MPI Assignments"
   ]
  },
  {
   "cell_type": "markdown",
   "metadata": {},
   "source": [
    "### Exercise 1: Hello World\n",
    "1. Write an MPI program which prints the message \"Hello World\"\n",
    "2. Modify your program so that each process prints out both its rank and the total number of processes P that the code is running on, i.e. the size of `MPI_COMM_WORLD`.\n",
    "3. Modify your program so that only a single controller process (e.g. rank 0) prints out a message (very useful when you run with hundreds of processes).\n",
    "4. What happens if you omit the final MPI procedure call in your program?"
   ]
  },
  {
   "cell_type": "code",
   "execution_count": 1,
   "metadata": {},
   "outputs": [
    {
     "name": "stdout",
     "output_type": "stream",
     "text": [
      "Overwriting hello.py\n"
     ]
    }
   ],
   "source": [
    " %%file hello.py\n",
    "from mpi4py import MPI\n",
    "COMM = MPI.COMM_WORLD\n",
    "SIZE = COMM.Get_size()\n",
    "RANK = COMM.Get_rank()\n",
    "\n",
    "print(\"Hello from the rank {} process on {} total process\".format(RANK,SIZE))\n"
   ]
  },
  {
   "cell_type": "code",
   "execution_count": 2,
   "metadata": {},
   "outputs": [
    {
     "name": "stdout",
     "output_type": "stream",
     "text": [
      "Hello from the rank 0 process on 4 total process\r\n",
      "Hello from the rank 3 process on 4 total process\r\n",
      "Hello from the rank 1 process on 4 total process\r\n",
      "Hello from the rank 2 process on 4 total process\r\n"
     ]
    }
   ],
   "source": [
    "!mpirun --oversubscribe -n 4 python3 hello.py"
   ]
  },
  {
   "cell_type": "code",
   "execution_count": 3,
   "metadata": {},
   "outputs": [
    {
     "name": "stdout",
     "output_type": "stream",
     "text": [
      "Overwriting hello.py\n"
     ]
    }
   ],
   "source": [
    " %%file hello.py\n",
    "from mpi4py import MPI\n",
    "COMM = MPI.COMM_WORLD\n",
    "SIZE = COMM.Get_size()\n",
    "RANK = COMM.Get_rank()\n",
    "\n",
    "if RANK == 0:\n",
    "    \n",
    "    print(\"Hello from the rank {} process on {} total process\".format(RANK,SIZE))\n"
   ]
  },
  {
   "cell_type": "code",
   "execution_count": 4,
   "metadata": {},
   "outputs": [
    {
     "name": "stdout",
     "output_type": "stream",
     "text": [
      "Hello from the rank 0 process on 4 total process\r\n"
     ]
    }
   ],
   "source": [
    "!mpirun --oversubscribe -n 4 python3 hello.py"
   ]
  },
  {
   "cell_type": "markdown",
   "metadata": {},
   "source": [
    "### Exercise 2: Sharing Data\n",
    "Create a program that obtains an integer input from the terminal and distributes it to all the MPI processes.\n",
    "Each process must display its rank and the received value. \n",
    "Keep reading values until a negative integer is entered.\n",
    "**Output Example**\n",
    "```shell\n",
    "10\n",
    "Process 0 got 10\n",
    "Process 1 got 10\n",
    "```"
   ]
  },
  {
   "cell_type": "code",
   "execution_count": 38,
   "metadata": {},
   "outputs": [
    {
     "name": "stdout",
     "output_type": "stream",
     "text": [
      "Overwriting sharing.py\n"
     ]
    }
   ],
   "source": [
    "%%file sharing.py\n",
    "from mpi4py import MPI\n",
    "COMM = MPI.COMM_WORLD\n",
    "SIZE = COMM.Get_size()\n",
    "RANK = COMM.Get_rank()\n",
    "\n",
    "if RANK==0:\n",
    "    sendb=int(input(\"Entrez un nombre: \"))\n",
    "else:\n",
    "    sendb = None\n",
    "        \n",
    "recvb = COMM.bcast(sendb , root=0)\n",
    "print(\"Process {RANK} got {data}\".format(RANK, data=recvb))"
   ]
  },
  {
   "cell_type": "code",
   "execution_count": 39,
   "metadata": {},
   "outputs": [
    {
     "name": "stdout",
     "output_type": "stream",
     "text": [
      "Entrez un nombre: ^C\n"
     ]
    }
   ],
   "source": [
    "!mpirun --oversubscribe -n 2 python3 sharing.py"
   ]
  },
  {
   "cell_type": "markdown",
   "metadata": {},
   "source": [
    "### Exercise 3 Sending in a ring (broadcast by ring)\n",
    "\n",
    "Write a program that takes data from process zero and sends it to all of the other processes by sending it in a ring. That is, process i should receive the data add the rank of the process to it then send it to process i+1, until the last process is reached.\n",
    "Assume that the data consists of a single integer. Process zero reads the data from the user.\n",
    "print the process rank and the value received.\n",
    "\n",
    "\n",
    "![ring](../data/ring.gif)\n",
    "\n",
    "You may want to use these MPI routines in your solution:\n",
    "`Send` `Recv` "
   ]
  },
  {
   "cell_type": "code",
   "execution_count": 40,
   "metadata": {},
   "outputs": [
    {
     "name": "stdout",
     "output_type": "stream",
     "text": [
      "Overwriting sending.py\n"
     ]
    }
   ],
   "source": [
    "%%file sending.py\n",
    "from mpi4py import MPI\n",
    "COMM = MPI.COMM_WORLD\n",
    "nbOfproc = COMM.Get_size()\n",
    "RANK = COMM.Get_rank()\n",
    "tag=99\n",
    "i=0\n",
    "while i < nbOfproc-1:\n",
    "    if RANK==i:\n",
    "        sendb = 1000\n",
    "        COMM.send ( sendb , dest=i+1, tag=tag )\n",
    "    if RANK ==i+1:\n",
    "        recvb = COMM.recv ( source=i , tag=tag )\n",
    "        print (\"Process {RANK} receive {recvb} from {RANKO}\".format(RANK=RANK, recvb=recvb, RANKO=RANK-1))\n",
    "    i=i+1 "
   ]
  },
  {
   "cell_type": "code",
   "execution_count": 42,
   "metadata": {},
   "outputs": [
    {
     "name": "stdout",
     "output_type": "stream",
     "text": [
      "Process 1 receive 1000 from 0\r\n",
      "Process 2 receive 1000 from 1\r\n",
      "Process 3 receive 1000 from 2\r\n"
     ]
    }
   ],
   "source": [
    "!mpirun --oversubscribe -n 4 python3 sending.py"
   ]
  },
  {
   "cell_type": "markdown",
   "metadata": {},
   "source": [
    "\n",
    "\n",
    "### Exercise 4: Scattering Matrix\n",
    "1. Create an n by m matrix A on processor 0.\n",
    "2. Use MPI_Scatterv to send parts of the matrix to the other processors.\n",
    "3. Processor 1 receives A(i,j) for i=0 to (n/2)-1 and j=m/2 to m-1.\n",
    "4. Processor 2 receives A(i,j) for i=n/2 to n-1 and j=0 to (m/2)-1.\n",
    "5. Processor 3 receives A(i,j) for i=n/2 to n-1 and j=m/2 to m-1.\n",
    "\n",
    "**Example:** using n=m=8 for simplicity.\n",
    "\n"
   ]
  },
  {
   "cell_type": "code",
   "execution_count": 44,
   "metadata": {},
   "outputs": [
    {
     "name": "stdout",
     "output_type": "stream",
     "text": [
      "Overwriting scattering.py\n"
     ]
    }
   ],
   "source": [
    "%%file scattering.py\n",
    "from mpi4py import MPI\n",
    "\n",
    "COLS = 8\n",
    "ROWS = 8\n",
    "\n",
    "comm = MPI.COMM_WORLD\n",
    "p = comm.Get_size()\n",
    "rank = comm.Get_rank()\n",
    "\n",
    "a = None\n",
    "\n",
    "NPROWS = 2\n",
    "NPCOLS = 2\n",
    "BLOCKROWS = ROWS // NPROWS\n",
    "BLOCKCOLS = COLS // NPCOLS\n",
    "\n",
    "if rank == 0:\n",
    "    a = bytearray(range(ROWS*COLS))\n",
    "\n",
    "if p != NPROWS*NPCOLS:\n",
    "    if rank == 0:\n",
    "        print(f\"Error: number of PEs {p} != {NPROWS} x {NPCOLS}\")\n",
    "    comm.Abort()\n",
    "\n",
    "b = bytearray(BLOCKROWS * BLOCKCOLS)\n",
    "\n",
    "blocktype2 = MPI.CHAR.Create_vector(BLOCKROWS, BLOCKCOLS, COLS)\n",
    "blocktype2.Commit()\n",
    "\n",
    "blocktype = blocktype2.Create_resized(0, 1)\n",
    "blocktype.Commit()\n",
    "\n",
    "disps = [i * COLS * BLOCKROWS + j * BLOCKCOLS for i in range(NPROWS) for j in range(NPCOLS)]\n",
    "counts = [1] * (NPROWS * NPCOLS)\n",
    "\n",
    "comm.Scatterv([a, counts, disps, blocktype], b)\n",
    "\n",
    "for proc in range(p):\n",
    "    if proc == rank:\n",
    "        print(f\"Rank = {rank}\")\n",
    "        if rank == 0:\n",
    "            print(\"Global matrix:\")\n",
    "            for i in range(ROWS):\n",
    "                for j in range(COLS):\n",
    "                    print(f\"{a[i*COLS+j]:3d}\", end=\" \")\n",
    "                print(\"\")\n",
    "        print(\"Local Matrix:\")\n",
    "        for i in range(BLOCKROWS):\n",
    "            for j in range(BLOCKCOLS):\n",
    "                print(f\"{b[i*BLOCKCOLS+j]:3d}\", end=\" \")\n",
    "            print(\"\")\n",
    "        print(\"\")\n",
    "\n",
    "    comm.Barrier()\n",
    "\n",
    "blocktype2.Free()\n",
    "blocktype.Free()\n",
    "\n",
    "MPI.Finalize()\n"
   ]
  },
  {
   "cell_type": "code",
   "execution_count": 45,
   "metadata": {},
   "outputs": [
    {
     "name": "stdout",
     "output_type": "stream",
     "text": [
      "Rank = 0\r\n",
      "Global matrix:\r\n",
      "  0   1   2   3   4   5   6   7 \r\n",
      "  8   9  10  11  12  13  14  15 \r\n",
      " 16  17  18  19  20  21  22  23 \r\n",
      " 24  25  26  27  28  29  30  31 \r\n",
      " 32  33  34  35  36  37  38  39 \r\n",
      " 40  41  42  43  44  45  46  47 \r\n",
      " 48  49  50  51  52  53  54  55 \r\n",
      " 56  57  58  59  60  61  62  63 \r\n",
      "Local Matrix:\r\n",
      "  0   1   2   3 \r\n",
      "  8   9  10  11 \r\n",
      " 16  17  18  19 \r\n",
      " 24  25  26  27 \r\n",
      "\r\n",
      "Rank = 1\r\n",
      "Local Matrix:\r\n",
      "  4   5   6   7 \r\n",
      " 12  13  14  15 \r\n",
      " 20  21  22  23 \r\n",
      " 28  29  30  31 \r\n",
      "\r\n",
      "Rank = 2\r\n",
      "Local Matrix:\r\n",
      " 32  33  34  35 \r\n",
      " 40  41  42  43 \r\n",
      " 48  49  50  51 \r\n",
      " 56  57  58  59 \r\n",
      "\r\n",
      "Rank = 3\r\n",
      "Local Matrix:\r\n",
      " 36  37  38  39 \r\n",
      " 44  45  46  47 \r\n",
      " 52  53  54  55 \r\n",
      " 60  61  62  63 \r\n",
      "\r\n"
     ]
    }
   ],
   "source": [
    "!mpirun --oversubscribe -n 4 python3 scattering.py"
   ]
  },
  {
   "cell_type": "markdown",
   "metadata": {},
   "source": [
    "### Exercise 5 Matrix vector product\n",
    "\n",
    "1. Use the `MatrixVectorMult.py` file to implement the MPI version of matrix vector multiplication.\n",
    "2. Process 0 compares the result with the `dot` product.\n",
    "3. Plot the scalability of your implementation. \n",
    "\n",
    "**Output Example**\n",
    "```shell\n",
    "CPU time of parallel multiplication using 2 processes is  174.923446\n",
    "The error comparing to the dot product is : 1.4210854715202004e-14\n",
    "```\n"
   ]
  },
  {
   "cell_type": "code",
   "execution_count": 46,
   "metadata": {},
   "outputs": [
    {
     "name": "stdout",
     "output_type": "stream",
     "text": [
      "Overwriting MatrixVectorMult_V0.py\n"
     ]
    }
   ],
   "source": [
    "%%file MatrixVectorMult_V0.py\n",
    "\n",
    "import numpy as np\n",
    "from scipy.sparse import lil_matrix\n",
    "from numpy.random import rand, seed\n",
    "from numba import njit\n",
    "from mpi4py import MPI\n",
    "\n",
    "\n",
    "''' This program compute parallel csc matrix vector multiplication using mpi '''\n",
    "\n",
    "COMM = MPI.COMM_WORLD\n",
    "nbOfproc = COMM.Get_size()\n",
    "RANK = COMM.Get_rank()\n",
    "\n",
    "seed(42)\n",
    "\n",
    "def matrixVectorMult(A, b, x):\n",
    "    \n",
    "    row, col = A.shape\n",
    "    for i in range(row):\n",
    "        a = A[i]\n",
    "        for j in range(col):\n",
    "            x[i] += a[j] * b[j]\n",
    "\n",
    "    return 0\n",
    "\n",
    "########################initialize matrix A and vector b ######################\n",
    "#matrix sizes\n",
    "SIZE = 1000\n",
    "Local_size = SIZE//nbOfproc\n",
    "\n",
    "# counts = block of each proc\n",
    "#counts = \n",
    "\n",
    "if RANK == 0:\n",
    "    A = lil_matrix((SIZE, SIZE))\n",
    "    A[0, :100] = rand(100)\n",
    "    A[1, 100:200] = A[0, :100]\n",
    "    A.setdiag(rand(SIZE))\n",
    "    A = A.toarray()\n",
    "    b = rand(SIZE)\n",
    "else :\n",
    "    A = None\n",
    "    b = None\n",
    "\n",
    "\n",
    "\n",
    "#########Send b to all procs and scatter A (each proc has its own local matrix#####\n",
    "\n",
    "LocalMatrix = np.zeros((Local_size, SIZE))\n",
    "COMM.Scatter(A, LocalMatrix, root=0)\n",
    "\n",
    "# Scatter the matrix A\n",
    "b=COMM.bcast(b,root=0)\n",
    "\n",
    "\n",
    "\n",
    "#####################Compute A*b locally#######################################\n",
    "LocalX = np.zeros(Local_size)\n",
    "\n",
    "\n",
    "start = MPI.Wtime()\n",
    "matrixVectorMult(LocalMatrix, b, LocalX)\n",
    "stop = MPI.Wtime()\n",
    "if RANK == 0:\n",
    "    print(\"CPU time of parallel multiplication is \", (stop - start)*1000)\n",
    "\n",
    "##################Gather te results ###########################################\n",
    "#sendcouns = \n",
    "sendcounts = np.array(COMM.gather(len(LocalX),root=0))\n",
    "if RANK == 0: \n",
    "    X = np.zeros(sum(sendcounts),dtype=np.double)\n",
    "\n",
    "else :\n",
    "    X = None\n",
    "\n",
    "if RANK == 0:\n",
    "    print(len(X))\n",
    "#print(RANK, sendcounts, len(LocalX))\n",
    "# Gather the result into X\n",
    "COMM.Gatherv(LocalX, recvbuf=(X, sendcounts, MPI.DOUBLE), root=0)\n",
    "\n",
    "\n",
    "##################Print the results ###########################################\n",
    "\n",
    "if RANK == 0 :\n",
    "    X_ = A.dot(b)\n",
    "    print(\"The result of A*b using dot is :\", np.max(X_ - X))\n",
    "    # print(\"The result of A*b using parallel version is :\", X)\n",
    "    "
   ]
  },
  {
   "cell_type": "code",
   "execution_count": 54,
   "metadata": {},
   "outputs": [
    {
     "name": "stdout",
     "output_type": "stream",
     "text": [
      "CPU time of parallel multiplication is  236.96253000000002\n",
      "1000\n",
      "The result of A*b using dot is : 1.4210854715202004e-14\n"
     ]
    }
   ],
   "source": [
    "!mpirun --oversubscribe -n 4 python3 MatrixVectorMult_V0.py"
   ]
  },
  {
   "cell_type": "code",
   "execution_count": 55,
   "metadata": {},
   "outputs": [
    {
     "data": {
      "text/plain": [
       "Text(0.5, 1.0, 'CPU time per number of processes use to the product Matrix vect')"
      ]
     },
     "execution_count": 55,
     "metadata": {},
     "output_type": "execute_result"
    },
    {
     "data": {
      "image/png": "[encoded data removed]",
      "text/plain": [
       "<Figure size 640x480 with 1 Axes>"
      ]
     },
     "metadata": {},
     "output_type": "display_data"
    }
   ],
   "source": [
    "import matplotlib.pyplot as plt\n",
    "CPU_time=[553.423, 643.515, 236.962]\n",
    "plt.plot([1,2,4],CPU_time)\n",
    "plt.title(\"CPU time per number of processes use to the product Matrix vect\")"
   ]
  },
  {
   "cell_type": "markdown",
   "metadata": {},
   "source": [
    "### Exercise 6: Pi calculation\n",
    "An approximation to the value π can be obtained from the following expression\n",
    "\n",
    "![Pi expression](../data/pi.PNG)\n",
    "\n",
    "where the answer becomes more accurate with increasing N. Iterations over i are independent so the\n",
    "calculation can be parallelized.\n",
    "\n",
    "For the following exercises you should set N = 840. This number is divisible by 2, 3, 4, 5, 6, 7 and 8\n",
    "which is convenient when you parallelize the calculation!\n",
    "\n",
    "1. Create a program where each process independently computes the value of `π` and prints it to the screen. Check that the values are correct (each process should print the same value)\n",
    "2. Now arrange for different processes to do the computation for different ranges of i. For example, on two processes: rank 0 would do i = 0, 1, 2, . . . , N/2 - 1; rank 1 would do i = N/2, N/2 + 1, . . . , N-1.\n",
    "Print the partial sums to the screen and check the values are correct by adding them up by hand.\n",
    "3. Now we want to accumulate these partial sums by sending them to the controller (e.g. rank 0) to add up:\n",
    "- all processes (except the controller) send their partial sum to the controller\n",
    "- the controller receives the values from all the other processes, adding them to its own partial sum\n",
    "1. Use the function `MPI_Wtime` (see below) to record the time it takes to perform the calculation. For a given value of N, does the time decrease as you increase the number of processes? Note that to ensure that the calculation takes a sensible amount of time (e.g. more than a second) you will probably have to perform the calculation of `π` several thousands of times.\n",
    "2. Ensure your program works correctly if N is not an exact multiple of the number of processes P\n"
   ]
  },
  {
   "cell_type": "code",
   "execution_count": 49,
   "metadata": {},
   "outputs": [
    {
     "name": "stdout",
     "output_type": "stream",
     "text": [
      "Overwriting PiMonteCarlo_V0.py\n"
     ]
    }
   ],
   "source": [
    "%%file PiMonteCarlo_V0.py\n",
    "\n",
    "import random \n",
    "import timeit\n",
    "from mpi4py import MPI\n",
    "\n",
    "COMM = MPI.COMM_WORLD\n",
    "nbOfproc = COMM.Get_size()\n",
    "RANK = COMM.Get_rank()\n",
    "\n",
    "\n",
    "\n",
    "random.seed(42)  \n",
    "\n",
    "def compute_points(n):\n",
    "    \n",
    "    random.seed(42)  \n",
    "    \n",
    "    circle_points= 0\n",
    "\n",
    "    # Total Random numbers generated= possible x \n",
    "    # values* possible y values \n",
    "    for i in range(n): \n",
    "      \n",
    "        # Randomly generated x and y values from a \n",
    "        # uniform distribution \n",
    "        # Rannge of x and y values is -1 to 1 \n",
    "                \n",
    "        rand_x= random.uniform(-1, 1) \n",
    "        rand_y= random.uniform(-1, 1) \n",
    "      \n",
    "        # Distance between (x, y) from the origin \n",
    "        origin_dist= rand_x**2 + rand_y**2\n",
    "      \n",
    "        # Checking if (x, y) lies inside the circle \n",
    "        if origin_dist<= 1: \n",
    "            circle_points+= 1\n",
    "      \n",
    "        # Estimating value of pi, \n",
    "        # pi= 4*(no. of points generated inside the  \n",
    "        # circle)/ (no. of points generated inside the square) \n",
    "    \n",
    "     \n",
    "    \n",
    "    return circle_points\n",
    "\n",
    "INTERVAL= 1000\n",
    "a= int((INTERVAL**2)/4)\n",
    "start = timeit.default_timer()\n",
    "circle_points = compute_points(a)\n",
    "end = timeit.default_timer()\n",
    "pi = 4* circle_points/ INTERVAL**2 \n",
    "circle_point_reduced = COMM.reduce(circle_points, op=MPI.SUM, root=0)\n",
    "pi_reduced = COMM.reduce(pi, op=MPI.SUM, root=0)\n",
    "if RANK==0:\n",
    "    print(\"Circle points number :\",circle_point_reduced )\n",
    "    print(\"Final Estimation of Pi=\", pi_reduced, \"cpu time :\",end-start) "
   ]
  },
  {
   "cell_type": "code",
   "execution_count": 59,
   "metadata": {},
   "outputs": [
    {
     "name": "stdout",
     "output_type": "stream",
     "text": [
      "Circle points number : 785032\r\n",
      "Final Estimation of Pi= 3.140128 cpu time : 0.26170734200422885\r\n"
     ]
    }
   ],
   "source": [
    "!mpirun --oversubscribe -n 4 python3 PiMonteCarlo_V0.py"
   ]
  },
  {
   "cell_type": "code",
   "execution_count": 60,
   "metadata": {},
   "outputs": [
    {
     "data": {
      "text/plain": [
       "Text(0.5, 1.0, 'CPU time per number of processes use to the Pi MonteCarlo ')"
      ]
     },
     "execution_count": 60,
     "metadata": {},
     "output_type": "execute_result"
    },
    {
     "data": {
      "image/png": "[encoded data removed]",
      "text/plain": [
       "<Figure size 640x480 with 1 Axes>"
      ]
     },
     "metadata": {},
     "output_type": "display_data"
    }
   ],
   "source": [
    "CPU_time=[0.206, 0.258, 0.261]\n",
    "plt.plot([1, 2, 4],CPU_time)\n",
    "plt.title(\"CPU time per number of processes use to the Pi MonteCarlo \")"
   ]
  },
  {
   "cell_type": "code",
   "execution_count": null,
   "metadata": {},
   "outputs": [],
   "source": []
  }
 ],
 "metadata": {
  "kernelspec": {
   "display_name": "Python 3",
   "language": "python",
   "name": "python3"
  },
  "language_info": {
   "codemirror_mode": {
    "name": "ipython",
    "version": 3
   },
   "file_extension": ".py",
   "mimetype": "text/x-python",
   "name": "python",
   "nbconvert_exporter": "python",
   "pygments_lexer": "ipython3",
   "version": "3.7.3"
  }
 },
 "nbformat": 4,
 "nbformat_minor": 5
}
