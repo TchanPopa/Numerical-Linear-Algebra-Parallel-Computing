{
 "cells": [
  {
   "cell_type": "markdown",
   "metadata": {},
   "source": [
    "In this assignement, feel free to use the `sparse` module from `scipy`."
   ]
  },
  {
   "cell_type": "markdown",
   "metadata": {},
   "source": [
    "Use the cell below for your imports."
   ]
  },
  {
   "cell_type": "code",
   "execution_count": 8,
   "metadata": {},
   "outputs": [],
   "source": [
    "import numpy as np\n",
    "from scipy.sparse import coo_matrix\n",
    "from scipy.sparse import csr_matrix"
   ]
  },
  {
   "cell_type": "markdown",
   "metadata": {},
   "source": [
    "implement the function `mat_mul_coo` that takes two sparse matrices in `coo` and returns their product."
   ]
  },
  {
   "cell_type": "code",
   "execution_count": 6,
   "metadata": {},
   "outputs": [
    {
     "name": "stdout",
     "output_type": "stream",
     "text": [
      "[[ 4  0]\n",
      " [ 0 10]\n",
      " [ 0  0]]\n"
     ]
    }
   ],
   "source": [
    "def mat_mul_coo(A, B):\n",
    "    \"\"\"\n",
    "    Compute the product of two sparse matrices in COO format.\n",
    "\n",
    "    Parameters\n",
    "    ----------\n",
    "    A : coo_matrix\n",
    "        First sparse matrix in COO format.\n",
    "    B : coo_matrix\n",
    "        Second sparse matrix in COO format.\n",
    "\n",
    "    Returns\n",
    "    -------\n",
    "    C : coo_matrix\n",
    "        Product of A and B in COO format.\n",
    "    \"\"\"\n",
    "    if A.shape[1] != B.shape[0]:\n",
    "        raise ValueError(\"Matrices cannot be multiplied\")\n",
    "\n",
    "    A_data = A.data\n",
    "    A_row = A.row\n",
    "    A_col = A.col\n",
    "    B_data = B.data\n",
    "    B_row = B.row\n",
    "    B_col = B.col\n",
    "\n",
    "    # Create a dictionary to store the values of the product matrix\n",
    "    C_dict = {}\n",
    "\n",
    "    # Iterate over the non-zero entries of A\n",
    "    for i in range(len(A_data)):\n",
    "        # Iterate over the non-zero entries of B with the same row index as the current entry in A\n",
    "        for j in range(len(B_data)):\n",
    "            if A_col[i] == B_row[j]:\n",
    "                # Multiply the corresponding values and add them to the dictionary\n",
    "                key = (A_row[i], B_col[j])\n",
    "                value = A_data[i] * B_data[j]\n",
    "                if key in C_dict:\n",
    "                    C_dict[key] += value\n",
    "                else:\n",
    "                    C_dict[key] = value\n",
    "\n",
    "    # Create the COO matrix from the dictionary values\n",
    "    C_data = np.array(list(C_dict.values()))\n",
    "    C_row, C_col = zip(*C_dict.keys())\n",
    "    C = coo_matrix((C_data, (C_row, C_col)), shape=(A.shape[0], B.shape[1]))\n",
    "\n",
    "    return C\n",
    "\n",
    "# Create two sparse matrices in COO format\n",
    "A = coo_matrix([[1, 0, 0], [0, 2, 0], [0, 0, 3]])\n",
    "B = coo_matrix([[4, 0], [0, 5], [0, 0]])\n",
    "\n",
    "# Compute their product\n",
    "C = mat_mul_coo(A, B)\n",
    "\n",
    "# Print the resulting matrix in COO format\n",
    "print(C.toarray())\n"
   ]
  },
  {
   "cell_type": "markdown",
   "metadata": {},
   "source": [
    "implement the function `mat_mul_csr` that takes two sparse matrices in `csr` format and returns their product."
   ]
  },
  {
   "cell_type": "code",
   "execution_count": 9,
   "metadata": {},
   "outputs": [
    {
     "name": "stdout",
     "output_type": "stream",
     "text": [
      "[[1 0 2 3]\n",
      " [0 4 5 0]\n",
      " [0 0 0 6]]\n"
     ]
    }
   ],
   "source": [
    "data = np.array([1, 2, 3, 4, 5, 6])\n",
    "col_indices = np.array([0, 2, 3, 1, 2, 3])\n",
    "row_pointers = np.array([0, 3, 5, 6])\n",
    "\n",
    "sparse_matrix = csr_matrix((data, col_indices, row_pointers))\n",
    "\n",
    "dense_matrix = sparse_matrix.toarray()\n",
    "\n",
    "print(dense_matrix)"
   ]
  },
  {
   "cell_type": "markdown",
   "metadata": {},
   "source": [
    "implement a function `solve_lin_sys` that takes a matrix `A` in `csr` format and a vector `b` as a numpy array and solves the system `Ax = b`."
   ]
  },
  {
   "cell_type": "code",
   "execution_count": null,
   "metadata": {},
   "outputs": [],
   "source": []
  }
 ],
 "metadata": {
  "kernelspec": {
   "display_name": "Python 3",
   "language": "python",
   "name": "python3"
  },
  "language_info": {
   "codemirror_mode": {
    "name": "ipython",
    "version": 3
   },
   "file_extension": ".py",
   "mimetype": "text/x-python",
   "name": "python",
   "nbconvert_exporter": "python",
   "pygments_lexer": "ipython3",
   "version": "3.7.3"
  }
 },
 "nbformat": 4,
 "nbformat_minor": 5
}
